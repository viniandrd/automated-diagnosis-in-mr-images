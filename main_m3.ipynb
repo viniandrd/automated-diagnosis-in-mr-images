{
 "cells": [
  {
   "cell_type": "code",
   "execution_count": 1,
   "metadata": {},
   "outputs": [
    {
     "name": "stdout",
     "output_type": "stream",
     "text": [
      "Segmentation Models: using `tf.keras` framework.\n"
     ]
    }
   ],
   "source": [
    "from data_manipulation.loaders import *\r\n",
    "from config import config as cfg\r\n",
    "from models.model3 import *\r\n",
    "import datetime\r\n",
    "import os\r\n",
    "import segmentation_models as sm\r\n",
    "import random\r\n",
    "import matplotlib.pyplot as plt"
   ]
  },
  {
   "cell_type": "code",
   "execution_count": 2,
   "metadata": {},
   "outputs": [],
   "source": [
    "%load_ext tensorboard"
   ]
  },
  {
   "cell_type": "code",
   "execution_count": 3,
   "metadata": {},
   "outputs": [],
   "source": [
    "physical_devices = tf.config.list_physical_devices('GPU')\n",
    "tf.config.experimental.set_memory_growth(physical_devices[0], True)"
   ]
  },
  {
   "cell_type": "code",
   "execution_count": 4,
   "metadata": {
    "scrolled": true
   },
   "outputs": [
    {
     "name": "stdout",
     "output_type": "stream",
     "text": [
      ">> Filtering black images (without ground truth)..\n",
      "    ------------\n",
      "    Before deleting:  0\n",
      "    After deleting:  0\n",
      "    ------------\n",
      "    Before deleting:  0\n",
      "    After deleting:  0\n",
      "<< Done!\n",
      "\n",
      ">> Searching for sets in csv format..\n",
      "!! Found them.\n"
     ]
    }
   ],
   "source": [
    "data = Dataset(cfg['dataset_path'], cfg['images_path'], cfg['modality'],\n",
    "                initial_slice=cfg['initial_slice'], final_slice=cfg['final_slice'], extract=False)"
   ]
  },
  {
   "cell_type": "code",
   "execution_count": 5,
   "metadata": {},
   "outputs": [],
   "source": [
    "train_generator = DataGenerator(data.train, batch_size=64)\n",
    "val_generator = DataGenerator(data.val, batch_size=cfg['batch_size'])"
   ]
  },
  {
   "cell_type": "code",
   "execution_count": 7,
   "metadata": {},
   "outputs": [
    {
     "name": "stderr",
     "output_type": "stream",
     "text": [
      "D:\\Programas\\anaconda3\\envs\\tcc\\lib\\site-packages\\tensorflow\\python\\keras\\utils\\generic_utils.py:494: CustomMaskWarning: Custom mask layers require a config and must override get_config. When loading, the custom mask layer must be passed to the custom_objects argument.\n",
      "  warnings.warn('Custom mask layers require a config and must override '\n"
     ]
    },
    {
     "name": "stdout",
     "output_type": "stream",
     "text": [
      "Epoch 1/150\n",
      "155/155 [==============================] - 82s 461ms/step - loss: 0.6354 - custom_mean_iou: 0.3455 - f1-score: 0.4421 - val_loss: 0.7511 - val_custom_mean_iou: 0.2505 - val_f1-score: 0.2656\n",
      "Epoch 2/150\n",
      "155/155 [==============================] - 40s 257ms/step - loss: 0.5151 - custom_mean_iou: 0.4899 - f1-score: 0.5976 - val_loss: 0.6823 - val_custom_mean_iou: 0.3162 - val_f1-score: 0.3780\n",
      "Epoch 3/150\n",
      "155/155 [==============================] - 40s 257ms/step - loss: 0.4878 - custom_mean_iou: 0.5149 - f1-score: 0.6296 - val_loss: 0.5789 - val_custom_mean_iou: 0.4412 - val_f1-score: 0.5111\n",
      "Epoch 4/150\n",
      "155/155 [==============================] - 40s 258ms/step - loss: 0.4581 - custom_mean_iou: 0.5448 - f1-score: 0.6628 - val_loss: 0.5420 - val_custom_mean_iou: 0.4833 - val_f1-score: 0.5605\n",
      "Epoch 5/150\n",
      "155/155 [==============================] - 40s 257ms/step - loss: 0.4373 - custom_mean_iou: 0.5654 - f1-score: 0.6848 - val_loss: 0.4668 - val_custom_mean_iou: 0.5627 - val_f1-score: 0.6391\n",
      "Epoch 6/150\n",
      "155/155 [==============================] - 40s 257ms/step - loss: 0.4206 - custom_mean_iou: 0.5822 - f1-score: 0.7016 - val_loss: 0.5290 - val_custom_mean_iou: 0.4866 - val_f1-score: 0.5771\n",
      "Epoch 7/150\n",
      "155/155 [==============================] - 40s 257ms/step - loss: 0.3989 - custom_mean_iou: 0.6040 - f1-score: 0.7227 - val_loss: 0.4625 - val_custom_mean_iou: 0.5662 - val_f1-score: 0.6468\n",
      "Epoch 8/150\n",
      "155/155 [==============================] - 40s 257ms/step - loss: 0.3840 - custom_mean_iou: 0.6188 - f1-score: 0.7368 - val_loss: 0.4640 - val_custom_mean_iou: 0.5608 - val_f1-score: 0.6497\n",
      "Epoch 9/150\n",
      "155/155 [==============================] - 40s 257ms/step - loss: 0.3700 - custom_mean_iou: 0.6328 - f1-score: 0.7496 - val_loss: 0.4156 - val_custom_mean_iou: 0.6189 - val_f1-score: 0.6909\n",
      "Epoch 10/150\n",
      "155/155 [==============================] - 40s 257ms/step - loss: 0.3581 - custom_mean_iou: 0.6447 - f1-score: 0.7605 - val_loss: 0.3871 - val_custom_mean_iou: 0.6446 - val_f1-score: 0.7216\n",
      "Epoch 11/150\n",
      "155/155 [==============================] - 40s 256ms/step - loss: 0.3424 - custom_mean_iou: 0.6606 - f1-score: 0.7741 - val_loss: 0.4311 - val_custom_mean_iou: 0.5995 - val_f1-score: 0.6747\n",
      "Epoch 12/150\n",
      "155/155 [==============================] - 40s 257ms/step - loss: 0.3334 - custom_mean_iou: 0.6696 - f1-score: 0.7818 - val_loss: 0.3805 - val_custom_mean_iou: 0.6544 - val_f1-score: 0.7248\n",
      "Epoch 13/150\n",
      "155/155 [==============================] - 40s 257ms/step - loss: 0.3231 - custom_mean_iou: 0.6800 - f1-score: 0.7905 - val_loss: 0.3641 - val_custom_mean_iou: 0.6674 - val_f1-score: 0.7434\n",
      "Epoch 14/150\n",
      "155/155 [==============================] - 40s 256ms/step - loss: 0.3164 - custom_mean_iou: 0.6866 - f1-score: 0.7960 - val_loss: 0.3628 - val_custom_mean_iou: 0.6699 - val_f1-score: 0.7414\n",
      "Epoch 15/150\n",
      "155/155 [==============================] - 40s 256ms/step - loss: 0.3070 - custom_mean_iou: 0.6961 - f1-score: 0.8037 - val_loss: 0.3508 - val_custom_mean_iou: 0.6810 - val_f1-score: 0.7551\n",
      "Epoch 16/150\n",
      "155/155 [==============================] - 40s 257ms/step - loss: 0.3000 - custom_mean_iou: 0.7030 - f1-score: 0.8093 - val_loss: 0.3696 - val_custom_mean_iou: 0.6637 - val_f1-score: 0.7359\n",
      "Epoch 17/150\n",
      "155/155 [==============================] - 40s 256ms/step - loss: 0.2944 - custom_mean_iou: 0.7087 - f1-score: 0.8138 - val_loss: 0.3380 - val_custom_mean_iou: 0.6942 - val_f1-score: 0.7665\n",
      "Epoch 18/150\n",
      "155/155 [==============================] - 40s 256ms/step - loss: 0.2878 - custom_mean_iou: 0.7153 - f1-score: 0.8191 - val_loss: 0.3318 - val_custom_mean_iou: 0.7000 - val_f1-score: 0.7721\n",
      "Epoch 19/150\n",
      "155/155 [==============================] - 40s 257ms/step - loss: 0.2809 - custom_mean_iou: 0.7221 - f1-score: 0.8244 - val_loss: 0.3285 - val_custom_mean_iou: 0.7029 - val_f1-score: 0.7758\n",
      "Epoch 20/150\n",
      "155/155 [==============================] - 40s 257ms/step - loss: 0.2767 - custom_mean_iou: 0.7263 - f1-score: 0.8277 - val_loss: 0.3198 - val_custom_mean_iou: 0.7120 - val_f1-score: 0.7821\n",
      "Epoch 21/150\n",
      "155/155 [==============================] - 40s 256ms/step - loss: 0.2727 - custom_mean_iou: 0.7301 - f1-score: 0.8307 - val_loss: 0.3242 - val_custom_mean_iou: 0.7057 - val_f1-score: 0.7790\n",
      "Epoch 22/150\n",
      "155/155 [==============================] - 40s 257ms/step - loss: 0.2669 - custom_mean_iou: 0.7361 - f1-score: 0.8352 - val_loss: 0.3135 - val_custom_mean_iou: 0.7187 - val_f1-score: 0.7874\n",
      "Epoch 23/150\n",
      "155/155 [==============================] - 40s 256ms/step - loss: 0.2637 - custom_mean_iou: 0.7391 - f1-score: 0.8376 - val_loss: 0.3089 - val_custom_mean_iou: 0.7219 - val_f1-score: 0.7922\n",
      "Epoch 24/150\n",
      "155/155 [==============================] - 40s 257ms/step - loss: 0.2603 - custom_mean_iou: 0.7426 - f1-score: 0.8402 - val_loss: 0.3086 - val_custom_mean_iou: 0.7214 - val_f1-score: 0.7928\n",
      "Epoch 25/150\n",
      "155/155 [==============================] - 40s 257ms/step - loss: 0.2571 - custom_mean_iou: 0.7458 - f1-score: 0.8426 - val_loss: 0.3058 - val_custom_mean_iou: 0.7244 - val_f1-score: 0.7946\n",
      "Epoch 26/150\n",
      "155/155 [==============================] - 40s 256ms/step - loss: 0.2548 - custom_mean_iou: 0.7480 - f1-score: 0.8442 - val_loss: 0.3053 - val_custom_mean_iou: 0.7263 - val_f1-score: 0.7945\n",
      "Epoch 27/150\n",
      "155/155 [==============================] - 40s 257ms/step - loss: 0.2524 - custom_mean_iou: 0.7503 - f1-score: 0.8460 - val_loss: 0.2999 - val_custom_mean_iou: 0.7300 - val_f1-score: 0.7995\n",
      "Epoch 28/150\n",
      "155/155 [==============================] - 40s 256ms/step - loss: 0.2503 - custom_mean_iou: 0.7525 - f1-score: 0.8475 - val_loss: 0.3064 - val_custom_mean_iou: 0.7246 - val_f1-score: 0.7933\n",
      "Epoch 29/150\n",
      "155/155 [==============================] - 40s 256ms/step - loss: 0.2469 - custom_mean_iou: 0.7558 - f1-score: 0.8500 - val_loss: 0.2963 - val_custom_mean_iou: 0.7343 - val_f1-score: 0.8025\n",
      "Epoch 30/150\n",
      "155/155 [==============================] - 40s 257ms/step - loss: 0.2449 - custom_mean_iou: 0.7578 - f1-score: 0.8514 - val_loss: 0.3002 - val_custom_mean_iou: 0.7308 - val_f1-score: 0.7991\n",
      "Epoch 31/150\n",
      "155/155 [==============================] - 41s 263ms/step - loss: 0.2436 - custom_mean_iou: 0.7590 - f1-score: 0.8523 - val_loss: 0.2934 - val_custom_mean_iou: 0.7372 - val_f1-score: 0.8040\n",
      "Epoch 32/150\n",
      "155/155 [==============================] - 40s 261ms/step - loss: 0.2414 - custom_mean_iou: 0.7613 - f1-score: 0.8539 - val_loss: 0.2857 - val_custom_mean_iou: 0.7442 - val_f1-score: 0.8107\n",
      "Epoch 33/150\n",
      "155/155 [==============================] - 40s 258ms/step - loss: 0.2400 - custom_mean_iou: 0.7627 - f1-score: 0.8549 - val_loss: 0.2921 - val_custom_mean_iou: 0.7388 - val_f1-score: 0.8055\n",
      "Epoch 34/150\n",
      "155/155 [==============================] - 40s 257ms/step - loss: 0.2387 - custom_mean_iou: 0.7639 - f1-score: 0.8559 - val_loss: 0.2895 - val_custom_mean_iou: 0.7391 - val_f1-score: 0.8084\n",
      "Epoch 35/150\n",
      "155/155 [==============================] - 40s 256ms/step - loss: 0.2373 - custom_mean_iou: 0.7653 - f1-score: 0.8568 - val_loss: 0.2894 - val_custom_mean_iou: 0.7408 - val_f1-score: 0.8081\n",
      "Epoch 36/150\n",
      "155/155 [==============================] - 40s 257ms/step - loss: 0.2363 - custom_mean_iou: 0.7663 - f1-score: 0.8576 - val_loss: 0.2864 - val_custom_mean_iou: 0.7435 - val_f1-score: 0.8103\n",
      "Epoch 37/150\n",
      "155/155 [==============================] - 40s 256ms/step - loss: 0.2340 - custom_mean_iou: 0.7686 - f1-score: 0.8592 - val_loss: 0.2842 - val_custom_mean_iou: 0.7450 - val_f1-score: 0.8124\n",
      "Epoch 38/150\n",
      "155/155 [==============================] - 40s 257ms/step - loss: 0.2328 - custom_mean_iou: 0.7697 - f1-score: 0.8601 - val_loss: 0.2801 - val_custom_mean_iou: 0.7494 - val_f1-score: 0.8156\n",
      "Epoch 39/150\n",
      "155/155 [==============================] - 40s 257ms/step - loss: 0.2323 - custom_mean_iou: 0.7702 - f1-score: 0.8604 - val_loss: 0.2789 - val_custom_mean_iou: 0.7504 - val_f1-score: 0.8163\n",
      "Epoch 40/150\n",
      "155/155 [==============================] - 40s 257ms/step - loss: 0.2302 - custom_mean_iou: 0.7723 - f1-score: 0.8618 - val_loss: 0.2783 - val_custom_mean_iou: 0.7512 - val_f1-score: 0.8170\n",
      "Epoch 41/150\n"
     ]
    },
    {
     "name": "stdout",
     "output_type": "stream",
     "text": [
      "155/155 [==============================] - 40s 257ms/step - loss: 0.2292 - custom_mean_iou: 0.7734 - f1-score: 0.8626 - val_loss: 0.2817 - val_custom_mean_iou: 0.7475 - val_f1-score: 0.8141\n",
      "Epoch 42/150\n",
      "155/155 [==============================] - 40s 257ms/step - loss: 0.2289 - custom_mean_iou: 0.7736 - f1-score: 0.8628 - val_loss: 0.2803 - val_custom_mean_iou: 0.7491 - val_f1-score: 0.8152\n",
      "Epoch 43/150\n",
      "155/155 [==============================] - 40s 257ms/step - loss: 0.2273 - custom_mean_iou: 0.7753 - f1-score: 0.8639 - val_loss: 0.2764 - val_custom_mean_iou: 0.7523 - val_f1-score: 0.8186\n",
      "Epoch 44/150\n",
      "155/155 [==============================] - 40s 256ms/step - loss: 0.2257 - custom_mean_iou: 0.7769 - f1-score: 0.8650 - val_loss: 0.2764 - val_custom_mean_iou: 0.7529 - val_f1-score: 0.8184\n",
      "Epoch 45/150\n",
      "155/155 [==============================] - 40s 257ms/step - loss: 0.2259 - custom_mean_iou: 0.7766 - f1-score: 0.8649 - val_loss: 0.2853 - val_custom_mean_iou: 0.7432 - val_f1-score: 0.8126\n",
      "Epoch 46/150\n",
      "155/155 [==============================] - 40s 257ms/step - loss: 0.2240 - custom_mean_iou: 0.7786 - f1-score: 0.8662 - val_loss: 0.2722 - val_custom_mean_iou: 0.7564 - val_f1-score: 0.8220\n",
      "Epoch 47/150\n",
      "155/155 [==============================] - 40s 257ms/step - loss: 0.2231 - custom_mean_iou: 0.7794 - f1-score: 0.8668 - val_loss: 0.2729 - val_custom_mean_iou: 0.7565 - val_f1-score: 0.8213\n",
      "Epoch 48/150\n",
      "155/155 [==============================] - 40s 259ms/step - loss: 0.2231 - custom_mean_iou: 0.7793 - f1-score: 0.8668 - val_loss: 0.2709 - val_custom_mean_iou: 0.7571 - val_f1-score: 0.8233\n",
      "Epoch 49/150\n",
      "155/155 [==============================] - 41s 264ms/step - loss: 0.2221 - custom_mean_iou: 0.7803 - f1-score: 0.8675 - val_loss: 0.2718 - val_custom_mean_iou: 0.7569 - val_f1-score: 0.8226\n",
      "Epoch 50/150\n",
      "155/155 [==============================] - 41s 267ms/step - loss: 0.2205 - custom_mean_iou: 0.7820 - f1-score: 0.8686 - val_loss: 0.2675 - val_custom_mean_iou: 0.7613 - val_f1-score: 0.8256\n",
      "Epoch 51/150\n",
      "155/155 [==============================] - 41s 264ms/step - loss: 0.2200 - custom_mean_iou: 0.7826 - f1-score: 0.8690 - val_loss: 0.2714 - val_custom_mean_iou: 0.7561 - val_f1-score: 0.8234\n",
      "Epoch 52/150\n",
      "155/155 [==============================] - 41s 262ms/step - loss: 0.2192 - custom_mean_iou: 0.7832 - f1-score: 0.8695 - val_loss: 0.2724 - val_custom_mean_iou: 0.7557 - val_f1-score: 0.8223\n",
      "Epoch 53/150\n",
      "155/155 [==============================] - 42s 271ms/step - loss: 0.2187 - custom_mean_iou: 0.7838 - f1-score: 0.8698 - val_loss: 0.2723 - val_custom_mean_iou: 0.7552 - val_f1-score: 0.8227\n",
      "Epoch 54/150\n",
      "155/155 [==============================] - 41s 267ms/step - loss: 0.2183 - custom_mean_iou: 0.7841 - f1-score: 0.8701 - val_loss: 0.2708 - val_custom_mean_iou: 0.7580 - val_f1-score: 0.8234\n",
      "Epoch 55/150\n",
      "155/155 [==============================] - 40s 259ms/step - loss: 0.2166 - custom_mean_iou: 0.7858 - f1-score: 0.8713 - val_loss: 0.2733 - val_custom_mean_iou: 0.7553 - val_f1-score: 0.8213\n",
      "Epoch 56/150\n",
      "155/155 [==============================] - 40s 259ms/step - loss: 0.2164 - custom_mean_iou: 0.7860 - f1-score: 0.8715 - val_loss: 0.2742 - val_custom_mean_iou: 0.7543 - val_f1-score: 0.8207\n",
      "Epoch 57/150\n",
      "155/155 [==============================] - 41s 264ms/step - loss: 0.2160 - custom_mean_iou: 0.7864 - f1-score: 0.8717 - val_loss: 0.2705 - val_custom_mean_iou: 0.7577 - val_f1-score: 0.8238\n",
      "Epoch 58/150\n",
      "155/155 [==============================] - 42s 270ms/step - loss: 0.2154 - custom_mean_iou: 0.7869 - f1-score: 0.8721 - val_loss: 0.2679 - val_custom_mean_iou: 0.7603 - val_f1-score: 0.8258\n",
      "Epoch 59/150\n",
      "155/155 [==============================] - 41s 264ms/step - loss: 0.2141 - custom_mean_iou: 0.7882 - f1-score: 0.8730 - val_loss: 0.2660 - val_custom_mean_iou: 0.7618 - val_f1-score: 0.8274\n",
      "Epoch 60/150\n",
      "155/155 [==============================] - 41s 267ms/step - loss: 0.2134 - custom_mean_iou: 0.7890 - f1-score: 0.8735 - val_loss: 0.2710 - val_custom_mean_iou: 0.7584 - val_f1-score: 0.8229\n",
      "Epoch 61/150\n",
      "155/155 [==============================] - 41s 263ms/step - loss: 0.2127 - custom_mean_iou: 0.7896 - f1-score: 0.8740 - val_loss: 0.2635 - val_custom_mean_iou: 0.7645 - val_f1-score: 0.8294\n",
      "Epoch 62/150\n",
      "155/155 [==============================] - 40s 260ms/step - loss: 0.2116 - custom_mean_iou: 0.7907 - f1-score: 0.8748 - val_loss: 0.2613 - val_custom_mean_iou: 0.7656 - val_f1-score: 0.8315\n",
      "Epoch 63/150\n",
      "155/155 [==============================] - 41s 265ms/step - loss: 0.2105 - custom_mean_iou: 0.7918 - f1-score: 0.8755 - val_loss: 0.2634 - val_custom_mean_iou: 0.7646 - val_f1-score: 0.8297\n",
      "Epoch 64/150\n",
      "155/155 [==============================] - 40s 257ms/step - loss: 0.2093 - custom_mean_iou: 0.7931 - f1-score: 0.8764 - val_loss: 0.2615 - val_custom_mean_iou: 0.7659 - val_f1-score: 0.8310\n",
      "Epoch 65/150\n",
      "155/155 [==============================] - 40s 256ms/step - loss: 0.2087 - custom_mean_iou: 0.7936 - f1-score: 0.8769 - val_loss: 0.2588 - val_custom_mean_iou: 0.7670 - val_f1-score: 0.8340\n",
      "Epoch 66/150\n",
      "155/155 [==============================] - 40s 256ms/step - loss: 0.2082 - custom_mean_iou: 0.7941 - f1-score: 0.8772 - val_loss: 0.2593 - val_custom_mean_iou: 0.7680 - val_f1-score: 0.8332\n",
      "Epoch 67/150\n",
      "155/155 [==============================] - 40s 256ms/step - loss: 0.2072 - custom_mean_iou: 0.7950 - f1-score: 0.8778 - val_loss: 0.2640 - val_custom_mean_iou: 0.7617 - val_f1-score: 0.8303\n",
      "Epoch 68/150\n",
      "155/155 [==============================] - 40s 257ms/step - loss: 0.2066 - custom_mean_iou: 0.7956 - f1-score: 0.8783 - val_loss: 0.2573 - val_custom_mean_iou: 0.7697 - val_f1-score: 0.8346\n",
      "Epoch 69/150\n",
      "155/155 [==============================] - 40s 256ms/step - loss: 0.2058 - custom_mean_iou: 0.7965 - f1-score: 0.8788 - val_loss: 0.2576 - val_custom_mean_iou: 0.7685 - val_f1-score: 0.8350\n",
      "Epoch 70/150\n",
      "155/155 [==============================] - 40s 257ms/step - loss: 0.2053 - custom_mean_iou: 0.7970 - f1-score: 0.8792 - val_loss: 0.2597 - val_custom_mean_iou: 0.7672 - val_f1-score: 0.8333\n",
      "Epoch 71/150\n",
      "155/155 [==============================] - 40s 256ms/step - loss: 0.2049 - custom_mean_iou: 0.7974 - f1-score: 0.8795 - val_loss: 0.2550 - val_custom_mean_iou: 0.7710 - val_f1-score: 0.8368\n",
      "Epoch 72/150\n",
      "155/155 [==============================] - 40s 256ms/step - loss: 0.2035 - custom_mean_iou: 0.7987 - f1-score: 0.8804 - val_loss: 0.2569 - val_custom_mean_iou: 0.7694 - val_f1-score: 0.8353\n",
      "Epoch 73/150\n",
      "155/155 [==============================] - 40s 256ms/step - loss: 0.2034 - custom_mean_iou: 0.7989 - f1-score: 0.8805 - val_loss: 0.2596 - val_custom_mean_iou: 0.7675 - val_f1-score: 0.8333\n",
      "Epoch 74/150\n",
      "155/155 [==============================] - 40s 256ms/step - loss: 0.2032 - custom_mean_iou: 0.7991 - f1-score: 0.8807 - val_loss: 0.2566 - val_custom_mean_iou: 0.7705 - val_f1-score: 0.8352\n",
      "Epoch 75/150\n",
      "155/155 [==============================] - 40s 256ms/step - loss: 0.2025 - custom_mean_iou: 0.7997 - f1-score: 0.8811 - val_loss: 0.2563 - val_custom_mean_iou: 0.7701 - val_f1-score: 0.8360\n",
      "Epoch 76/150\n",
      "155/155 [==============================] - 40s 256ms/step - loss: 0.2019 - custom_mean_iou: 0.8003 - f1-score: 0.8815 - val_loss: 0.2539 - val_custom_mean_iou: 0.7729 - val_f1-score: 0.8374\n",
      "Epoch 77/150\n",
      "155/155 [==============================] - 40s 256ms/step - loss: 0.2017 - custom_mean_iou: 0.8004 - f1-score: 0.8817 - val_loss: 0.2552 - val_custom_mean_iou: 0.7712 - val_f1-score: 0.8367\n",
      "Epoch 78/150\n",
      "155/155 [==============================] - 40s 256ms/step - loss: 0.2009 - custom_mean_iou: 0.8012 - f1-score: 0.8822 - val_loss: 0.2527 - val_custom_mean_iou: 0.7738 - val_f1-score: 0.8387\n",
      "Epoch 79/150\n",
      "155/155 [==============================] - 40s 257ms/step - loss: 0.2001 - custom_mean_iou: 0.8020 - f1-score: 0.8828 - val_loss: 0.2560 - val_custom_mean_iou: 0.7701 - val_f1-score: 0.8362\n",
      "Epoch 80/150\n",
      "155/155 [==============================] - 40s 256ms/step - loss: 0.1994 - custom_mean_iou: 0.8027 - f1-score: 0.8832 - val_loss: 0.2572 - val_custom_mean_iou: 0.7698 - val_f1-score: 0.8350\n",
      "Epoch 81/150\n"
     ]
    },
    {
     "name": "stdout",
     "output_type": "stream",
     "text": [
      "155/155 [==============================] - 40s 256ms/step - loss: 0.1986 - custom_mean_iou: 0.8035 - f1-score: 0.8838 - val_loss: 0.2604 - val_custom_mean_iou: 0.7648 - val_f1-score: 0.8336\n",
      "Epoch 82/150\n",
      "155/155 [==============================] - 40s 256ms/step - loss: 0.1982 - custom_mean_iou: 0.8039 - f1-score: 0.8840 - val_loss: 0.2502 - val_custom_mean_iou: 0.7753 - val_f1-score: 0.8408\n",
      "Epoch 83/150\n",
      "155/155 [==============================] - 40s 256ms/step - loss: 0.1976 - custom_mean_iou: 0.8044 - f1-score: 0.8845 - val_loss: 0.2491 - val_custom_mean_iou: 0.7766 - val_f1-score: 0.8417\n",
      "Epoch 84/150\n",
      "155/155 [==============================] - 40s 256ms/step - loss: 0.1959 - custom_mean_iou: 0.8062 - f1-score: 0.8857 - val_loss: 0.2496 - val_custom_mean_iou: 0.7757 - val_f1-score: 0.8416\n",
      "Epoch 85/150\n",
      "155/155 [==============================] - 40s 257ms/step - loss: 0.1956 - custom_mean_iou: 0.8065 - f1-score: 0.8859 - val_loss: 0.2494 - val_custom_mean_iou: 0.7757 - val_f1-score: 0.8418\n",
      "Epoch 86/150\n",
      "155/155 [==============================] - 40s 257ms/step - loss: 0.1946 - custom_mean_iou: 0.8075 - f1-score: 0.8866 - val_loss: 0.2471 - val_custom_mean_iou: 0.7769 - val_f1-score: 0.8440\n",
      "Epoch 87/150\n",
      "155/155 [==============================] - 45s 287ms/step - loss: 0.1937 - custom_mean_iou: 0.8083 - f1-score: 0.8872 - val_loss: 0.2469 - val_custom_mean_iou: 0.7771 - val_f1-score: 0.8444\n",
      "Epoch 88/150\n",
      "155/155 [==============================] - 57s 368ms/step - loss: 0.1931 - custom_mean_iou: 0.8090 - f1-score: 0.8877 - val_loss: 0.2455 - val_custom_mean_iou: 0.7789 - val_f1-score: 0.8453\n",
      "Epoch 89/150\n",
      "155/155 [==============================] - 41s 264ms/step - loss: 0.1925 - custom_mean_iou: 0.8096 - f1-score: 0.8881 - val_loss: 0.2479 - val_custom_mean_iou: 0.7762 - val_f1-score: 0.8435\n",
      "Epoch 90/150\n",
      "155/155 [==============================] - 40s 260ms/step - loss: 0.1920 - custom_mean_iou: 0.8099 - f1-score: 0.8884 - val_loss: 0.2471 - val_custom_mean_iou: 0.7769 - val_f1-score: 0.8442\n",
      "Epoch 91/150\n",
      "155/155 [==============================] - 40s 257ms/step - loss: 0.1912 - custom_mean_iou: 0.8108 - f1-score: 0.8890 - val_loss: 0.2452 - val_custom_mean_iou: 0.7787 - val_f1-score: 0.8456\n",
      "Epoch 92/150\n",
      "155/155 [==============================] - 40s 257ms/step - loss: 0.1907 - custom_mean_iou: 0.8113 - f1-score: 0.8893 - val_loss: 0.2465 - val_custom_mean_iou: 0.7780 - val_f1-score: 0.8445\n",
      "Epoch 93/150\n",
      "155/155 [==============================] - 40s 257ms/step - loss: 0.1904 - custom_mean_iou: 0.8116 - f1-score: 0.8895 - val_loss: 0.2475 - val_custom_mean_iou: 0.7764 - val_f1-score: 0.8440\n",
      "Epoch 94/150\n",
      "155/155 [==============================] - 40s 257ms/step - loss: 0.1900 - custom_mean_iou: 0.8120 - f1-score: 0.8898 - val_loss: 0.2461 - val_custom_mean_iou: 0.7784 - val_f1-score: 0.8448\n",
      "Epoch 95/150\n",
      "155/155 [==============================] - 40s 257ms/step - loss: 0.1889 - custom_mean_iou: 0.8131 - f1-score: 0.8905 - val_loss: 0.2457 - val_custom_mean_iou: 0.7788 - val_f1-score: 0.8454\n",
      "Epoch 96/150\n",
      "155/155 [==============================] - 40s 257ms/step - loss: 0.1892 - custom_mean_iou: 0.8127 - f1-score: 0.8903 - val_loss: 0.2439 - val_custom_mean_iou: 0.7797 - val_f1-score: 0.8469\n",
      "Epoch 97/150\n",
      "155/155 [==============================] - 40s 257ms/step - loss: 0.1883 - custom_mean_iou: 0.8137 - f1-score: 0.8909 - val_loss: 0.2478 - val_custom_mean_iou: 0.7764 - val_f1-score: 0.8437\n",
      "Epoch 98/150\n",
      "155/155 [==============================] - 40s 257ms/step - loss: 0.1881 - custom_mean_iou: 0.8138 - f1-score: 0.8910 - val_loss: 0.2442 - val_custom_mean_iou: 0.7794 - val_f1-score: 0.8465\n",
      "Epoch 99/150\n",
      "155/155 [==============================] - 40s 257ms/step - loss: 0.1872 - custom_mean_iou: 0.8146 - f1-score: 0.8917 - val_loss: 0.2480 - val_custom_mean_iou: 0.7764 - val_f1-score: 0.8437\n",
      "Epoch 100/150\n",
      "155/155 [==============================] - 40s 257ms/step - loss: 0.1867 - custom_mean_iou: 0.8152 - f1-score: 0.8920 - val_loss: 0.2435 - val_custom_mean_iou: 0.7794 - val_f1-score: 0.8475\n",
      "Epoch 101/150\n",
      "155/155 [==============================] - 40s 257ms/step - loss: 0.1862 - custom_mean_iou: 0.8157 - f1-score: 0.8924 - val_loss: 0.2412 - val_custom_mean_iou: 0.7825 - val_f1-score: 0.8488\n",
      "Epoch 102/150\n",
      "155/155 [==============================] - 40s 257ms/step - loss: 0.1860 - custom_mean_iou: 0.8158 - f1-score: 0.8925 - val_loss: 0.2414 - val_custom_mean_iou: 0.7828 - val_f1-score: 0.8486\n",
      "Epoch 103/150\n",
      "155/155 [==============================] - 40s 257ms/step - loss: 0.1849 - custom_mean_iou: 0.8169 - f1-score: 0.8932 - val_loss: 0.2446 - val_custom_mean_iou: 0.7791 - val_f1-score: 0.8464\n",
      "Epoch 104/150\n",
      "155/155 [==============================] - 40s 257ms/step - loss: 0.1850 - custom_mean_iou: 0.8169 - f1-score: 0.8932 - val_loss: 0.2419 - val_custom_mean_iou: 0.7818 - val_f1-score: 0.8484\n",
      "Epoch 105/150\n",
      "155/155 [==============================] - 40s 257ms/step - loss: 0.1843 - custom_mean_iou: 0.8176 - f1-score: 0.8936 - val_loss: 0.2424 - val_custom_mean_iou: 0.7814 - val_f1-score: 0.8477\n",
      "Epoch 106/150\n",
      "155/155 [==============================] - 40s 256ms/step - loss: 0.1839 - custom_mean_iou: 0.8179 - f1-score: 0.8939 - val_loss: 0.2406 - val_custom_mean_iou: 0.7832 - val_f1-score: 0.8494\n",
      "Epoch 107/150\n",
      "155/155 [==============================] - 40s 256ms/step - loss: 0.1843 - custom_mean_iou: 0.8176 - f1-score: 0.8936 - val_loss: 0.2386 - val_custom_mean_iou: 0.7848 - val_f1-score: 0.8509\n",
      "Epoch 108/150\n",
      "155/155 [==============================] - 40s 257ms/step - loss: 0.1823 - custom_mean_iou: 0.8196 - f1-score: 0.8950 - val_loss: 0.2410 - val_custom_mean_iou: 0.7825 - val_f1-score: 0.8490\n",
      "Epoch 109/150\n",
      "155/155 [==============================] - 40s 256ms/step - loss: 0.1824 - custom_mean_iou: 0.8195 - f1-score: 0.8949 - val_loss: 0.2396 - val_custom_mean_iou: 0.7843 - val_f1-score: 0.8499\n",
      "Epoch 110/150\n",
      "155/155 [==============================] - 40s 257ms/step - loss: 0.1815 - custom_mean_iou: 0.8204 - f1-score: 0.8955 - val_loss: 0.2401 - val_custom_mean_iou: 0.7838 - val_f1-score: 0.8494\n",
      "Epoch 111/150\n",
      "155/155 [==============================] - 40s 257ms/step - loss: 0.1814 - custom_mean_iou: 0.8205 - f1-score: 0.8956 - val_loss: 0.2406 - val_custom_mean_iou: 0.7830 - val_f1-score: 0.8495\n",
      "Epoch 112/150\n",
      "155/155 [==============================] - 40s 257ms/step - loss: 0.1814 - custom_mean_iou: 0.8204 - f1-score: 0.8955 - val_loss: 0.2401 - val_custom_mean_iou: 0.7828 - val_f1-score: 0.8499\n",
      "Epoch 113/150\n",
      "155/155 [==============================] - 40s 256ms/step - loss: 0.1810 - custom_mean_iou: 0.8208 - f1-score: 0.8958 - val_loss: 0.2390 - val_custom_mean_iou: 0.7844 - val_f1-score: 0.8506\n",
      "Epoch 114/150\n",
      "155/155 [==============================] - 40s 256ms/step - loss: 0.1809 - custom_mean_iou: 0.8209 - f1-score: 0.8959 - val_loss: 0.2426 - val_custom_mean_iou: 0.7814 - val_f1-score: 0.8479\n",
      "Epoch 115/150\n",
      "155/155 [==============================] - 40s 257ms/step - loss: 0.1804 - custom_mean_iou: 0.8214 - f1-score: 0.8962 - val_loss: 0.2394 - val_custom_mean_iou: 0.7840 - val_f1-score: 0.8504\n",
      "Epoch 116/150\n",
      "155/155 [==============================] - 40s 257ms/step - loss: 0.1799 - custom_mean_iou: 0.8219 - f1-score: 0.8966 - val_loss: 0.2393 - val_custom_mean_iou: 0.7845 - val_f1-score: 0.8502\n",
      "Epoch 117/150\n",
      "155/155 [==============================] - 40s 257ms/step - loss: 0.1793 - custom_mean_iou: 0.8225 - f1-score: 0.8969 - val_loss: 0.2383 - val_custom_mean_iou: 0.7850 - val_f1-score: 0.8511\n",
      "Epoch 118/150\n",
      "155/155 [==============================] - 40s 257ms/step - loss: 0.1791 - custom_mean_iou: 0.8227 - f1-score: 0.8971 - val_loss: 0.2373 - val_custom_mean_iou: 0.7851 - val_f1-score: 0.8520\n",
      "Epoch 119/150\n",
      "155/155 [==============================] - 40s 257ms/step - loss: 0.1792 - custom_mean_iou: 0.8226 - f1-score: 0.8970 - val_loss: 0.2386 - val_custom_mean_iou: 0.7845 - val_f1-score: 0.8510\n",
      "Epoch 120/150\n",
      "155/155 [==============================] - 40s 256ms/step - loss: 0.1781 - custom_mean_iou: 0.8237 - f1-score: 0.8977 - val_loss: 0.2369 - val_custom_mean_iou: 0.7863 - val_f1-score: 0.8521\n",
      "Epoch 121/150\n"
     ]
    },
    {
     "name": "stdout",
     "output_type": "stream",
     "text": [
      "155/155 [==============================] - 40s 256ms/step - loss: 0.1782 - custom_mean_iou: 0.8236 - f1-score: 0.8977 - val_loss: 0.2364 - val_custom_mean_iou: 0.7869 - val_f1-score: 0.8527\n",
      "Epoch 122/150\n",
      "155/155 [==============================] - 40s 257ms/step - loss: 0.1773 - custom_mean_iou: 0.8244 - f1-score: 0.8982 - val_loss: 0.2377 - val_custom_mean_iou: 0.7853 - val_f1-score: 0.8517\n",
      "Epoch 123/150\n",
      "155/155 [==============================] - 40s 256ms/step - loss: 0.1773 - custom_mean_iou: 0.8245 - f1-score: 0.8983 - val_loss: 0.2378 - val_custom_mean_iou: 0.7854 - val_f1-score: 0.8516\n",
      "Epoch 124/150\n",
      "155/155 [==============================] - 40s 256ms/step - loss: 0.1773 - custom_mean_iou: 0.8245 - f1-score: 0.8983 - val_loss: 0.2375 - val_custom_mean_iou: 0.7854 - val_f1-score: 0.8518\n",
      "Epoch 125/150\n",
      "155/155 [==============================] - 40s 257ms/step - loss: 0.1770 - custom_mean_iou: 0.8247 - f1-score: 0.8984 - val_loss: 0.2406 - val_custom_mean_iou: 0.7818 - val_f1-score: 0.8496\n",
      "Epoch 126/150\n",
      "155/155 [==============================] - 40s 256ms/step - loss: 0.1756 - custom_mean_iou: 0.8262 - f1-score: 0.8994 - val_loss: 0.2345 - val_custom_mean_iou: 0.7885 - val_f1-score: 0.8541\n",
      "Epoch 127/150\n",
      "155/155 [==============================] - 40s 256ms/step - loss: 0.1753 - custom_mean_iou: 0.8265 - f1-score: 0.8996 - val_loss: 0.2357 - val_custom_mean_iou: 0.7882 - val_f1-score: 0.8528\n",
      "Epoch 128/150\n",
      "155/155 [==============================] - 40s 256ms/step - loss: 0.1751 - custom_mean_iou: 0.8266 - f1-score: 0.8997 - val_loss: 0.2353 - val_custom_mean_iou: 0.7878 - val_f1-score: 0.8534\n",
      "Epoch 129/150\n",
      "155/155 [==============================] - 40s 256ms/step - loss: 0.1753 - custom_mean_iou: 0.8264 - f1-score: 0.8996 - val_loss: 0.2364 - val_custom_mean_iou: 0.7867 - val_f1-score: 0.8527\n",
      "Epoch 130/150\n",
      "155/155 [==============================] - 40s 256ms/step - loss: 0.1744 - custom_mean_iou: 0.8274 - f1-score: 0.9002 - val_loss: 0.2362 - val_custom_mean_iou: 0.7871 - val_f1-score: 0.8527\n",
      "Epoch 131/150\n",
      "155/155 [==============================] - 40s 256ms/step - loss: 0.1744 - custom_mean_iou: 0.8273 - f1-score: 0.9002 - val_loss: 0.2353 - val_custom_mean_iou: 0.7877 - val_f1-score: 0.8534\n",
      "Epoch 132/150\n",
      "155/155 [==============================] - 40s 256ms/step - loss: 0.1748 - custom_mean_iou: 0.8269 - f1-score: 0.8999 - val_loss: 0.2370 - val_custom_mean_iou: 0.7858 - val_f1-score: 0.8524\n",
      "Epoch 133/150\n",
      "155/155 [==============================] - 40s 256ms/step - loss: 0.1740 - custom_mean_iou: 0.8277 - f1-score: 0.9004 - val_loss: 0.2351 - val_custom_mean_iou: 0.7882 - val_f1-score: 0.8534\n",
      "Epoch 134/150\n",
      "155/155 [==============================] - 40s 257ms/step - loss: 0.1734 - custom_mean_iou: 0.8283 - f1-score: 0.9008 - val_loss: 0.2358 - val_custom_mean_iou: 0.7877 - val_f1-score: 0.8527\n",
      "Epoch 135/150\n",
      "155/155 [==============================] - 40s 256ms/step - loss: 0.1740 - custom_mean_iou: 0.8276 - f1-score: 0.9004 - val_loss: 0.2361 - val_custom_mean_iou: 0.7864 - val_f1-score: 0.8531\n",
      "Epoch 136/150\n",
      "155/155 [==============================] - 40s 256ms/step - loss: 0.1731 - custom_mean_iou: 0.8286 - f1-score: 0.9010 - val_loss: 0.2377 - val_custom_mean_iou: 0.7863 - val_f1-score: 0.8512\n",
      "Epoch 137/150\n",
      "155/155 [==============================] - 40s 257ms/step - loss: 0.1729 - custom_mean_iou: 0.8288 - f1-score: 0.9012 - val_loss: 0.2337 - val_custom_mean_iou: 0.7894 - val_f1-score: 0.8546\n",
      "Epoch 138/150\n",
      "155/155 [==============================] - 40s 256ms/step - loss: 0.1727 - custom_mean_iou: 0.8290 - f1-score: 0.9013 - val_loss: 0.2344 - val_custom_mean_iou: 0.7887 - val_f1-score: 0.8539\n",
      "Epoch 139/150\n",
      "155/155 [==============================] - 40s 256ms/step - loss: 0.1721 - custom_mean_iou: 0.8296 - f1-score: 0.9016 - val_loss: 0.2335 - val_custom_mean_iou: 0.7895 - val_f1-score: 0.8547\n",
      "Epoch 140/150\n",
      "155/155 [==============================] - 40s 256ms/step - loss: 0.1724 - custom_mean_iou: 0.8293 - f1-score: 0.9015 - val_loss: 0.2366 - val_custom_mean_iou: 0.7865 - val_f1-score: 0.8524\n",
      "Epoch 141/150\n",
      "155/155 [==============================] - 40s 256ms/step - loss: 0.1715 - custom_mean_iou: 0.8301 - f1-score: 0.9020 - val_loss: 0.2336 - val_custom_mean_iou: 0.7893 - val_f1-score: 0.8547\n",
      "Epoch 142/150\n",
      "155/155 [==============================] - 40s 256ms/step - loss: 0.1717 - custom_mean_iou: 0.8300 - f1-score: 0.9019 - val_loss: 0.2333 - val_custom_mean_iou: 0.7896 - val_f1-score: 0.8549\n",
      "Epoch 143/150\n",
      "155/155 [==============================] - 40s 256ms/step - loss: 0.1710 - custom_mean_iou: 0.8307 - f1-score: 0.9024 - val_loss: 0.2347 - val_custom_mean_iou: 0.7886 - val_f1-score: 0.8537\n",
      "Epoch 144/150\n",
      "155/155 [==============================] - 40s 256ms/step - loss: 0.1704 - custom_mean_iou: 0.8313 - f1-score: 0.9028 - val_loss: 0.2364 - val_custom_mean_iou: 0.7865 - val_f1-score: 0.8524\n",
      "Epoch 145/150\n",
      "155/155 [==============================] - 40s 256ms/step - loss: 0.1709 - custom_mean_iou: 0.8307 - f1-score: 0.9024 - val_loss: 0.2332 - val_custom_mean_iou: 0.7896 - val_f1-score: 0.8549\n",
      "Epoch 146/150\n",
      "155/155 [==============================] - 40s 256ms/step - loss: 0.1698 - custom_mean_iou: 0.8318 - f1-score: 0.9031 - val_loss: 0.2327 - val_custom_mean_iou: 0.7899 - val_f1-score: 0.8553\n",
      "Epoch 147/150\n",
      "155/155 [==============================] - 40s 256ms/step - loss: 0.1699 - custom_mean_iou: 0.8317 - f1-score: 0.9031 - val_loss: 0.2328 - val_custom_mean_iou: 0.7898 - val_f1-score: 0.8553\n",
      "Epoch 148/150\n",
      "155/155 [==============================] - 40s 257ms/step - loss: 0.1697 - custom_mean_iou: 0.8320 - f1-score: 0.9032 - val_loss: 0.2318 - val_custom_mean_iou: 0.7909 - val_f1-score: 0.8559\n",
      "Epoch 149/150\n",
      "155/155 [==============================] - 40s 256ms/step - loss: 0.1685 - custom_mean_iou: 0.8331 - f1-score: 0.9040 - val_loss: 0.2326 - val_custom_mean_iou: 0.7905 - val_f1-score: 0.8555\n",
      "Epoch 150/150\n",
      "155/155 [==============================] - 41s 267ms/step - loss: 0.1690 - custom_mean_iou: 0.8327 - f1-score: 0.9037 - val_loss: 0.2340 - val_custom_mean_iou: 0.7888 - val_f1-score: 0.8543\n"
     ]
    }
   ],
   "source": [
    "#input_shape = cfg['image_shape'] + (1,)\n",
    "#model = unet(input_shape)\n",
    "\n",
    "unet_model = unet_backbone_resnet34_jaccard_loss()\n",
    "\n",
    "tf.keras.backend.clear_session()\n",
    "log_dir = \"logs/fit/\" + datetime.datetime.now().strftime(\"%Y%m%d-%H%M%S\")\n",
    "\n",
    "if not os.path.exists(log_dir):\n",
    "    os.makedirs(log_dir)\n",
    "\n",
    "tensorboard_callback = tf.keras.callbacks.TensorBoard(log_dir=log_dir, histogram_freq=1)\n",
    "\n",
    "\n",
    "history = unet_model.fit(train_generator, validation_data=val_generator, epochs = cfg['epochs'], callbacks=[tensorboard_callback])"
   ]
  },
  {
   "cell_type": "code",
   "execution_count": 8,
   "metadata": {},
   "outputs": [],
   "source": [
    "unet_model.save('modelo3.h5')"
   ]
  },
  {
   "cell_type": "code",
   "execution_count": 9,
   "metadata": {},
   "outputs": [],
   "source": [
    "def visualize_prediction(i, val_preds):\n",
    "    img = data.test[i][0]\n",
    "    img_arr = cv2.imread(img)\n",
    "    plt.imshow(img_arr)\n",
    "    plt.show()\n",
    "    gt = data.test[i][1]\n",
    "    gt_arr = cv2.imread(gt, 0)\n",
    "    plt.imshow(gt_arr) \n",
    "    plt.show()\n",
    "    plt.imshow(np.argmax(val_preds[i], axis=-1))\n",
    "    \n",
    "    plt.show()"
   ]
  },
  {
   "cell_type": "code",
   "execution_count": 10,
   "metadata": {},
   "outputs": [
    {
     "name": "stdout",
     "output_type": "stream",
     "text": [
      "19/19 [==============================] - 5s 228ms/step\n"
     ]
    }
   ],
   "source": [
    "test_generator = DataGenerator(data.test, batch_size=64)\n",
    "val_preds = unet_model.predict(test_generator, verbose=1)"
   ]
  },
  {
   "cell_type": "code",
   "execution_count": 11,
   "metadata": {},
   "outputs": [
    {
     "data": {
      "image/png": "[encoded data removed]",
      "text/plain": [
       "<Figure size 432x288 with 1 Axes>"
      ]
     },
     "metadata": {
      "needs_background": "light"
     },
     "output_type": "display_data"
    },
    {
     "data": {
      "image/png": "[encoded data removed]",
      "text/plain": [
       "<Figure size 432x288 with 1 Axes>"
      ]
     },
     "metadata": {
      "needs_background": "light"
     },
     "output_type": "display_data"
    },
    {
     "data": {
      "image/png": "[encoded data removed]",
      "text/plain": [
       "<Figure size 432x288 with 1 Axes>"
      ]
     },
     "metadata": {
      "needs_background": "light"
     },
     "output_type": "display_data"
    }
   ],
   "source": [
    "visualize_prediction(200, val_preds)"
   ]
  },
  {
   "cell_type": "code",
   "execution_count": null,
   "metadata": {},
   "outputs": [],
   "source": []
  }
 ],
 "metadata": {
  "interpreter": {
   "hash": "0003f363681616a44307bb271347a9063c245a0287f35e0666e009f6f81f80ad"
  },
  "kernelspec": {
   "display_name": "Python 3.9.7 64-bit ('tcc': conda)",
   "name": "python3"
  },
  "language_info": {
   "name": "python",
   "version": ""
  }
 },
 "nbformat": 4,
 "nbformat_minor": 5
}