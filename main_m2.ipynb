{
 "cells": [
  {
   "cell_type": "code",
   "execution_count": 1,
   "id": "387e1f3b",
   "metadata": {},
   "outputs": [
    {
     "name": "stdout",
     "output_type": "stream",
     "text": [
      "Segmentation Models: using `tf.keras` framework.\n"
     ]
    }
   ],
   "source": [
    "from data_preparation.loaders_novo import *\n",
    "from config import config as cfg\n",
    "from models.model2 import *\n",
    "import datetime\n",
    "import os\n",
    "import segmentation_models as sm\n",
    "import random\n",
    "import matplotlib.pyplot as plt"
   ]
  },
  {
   "cell_type": "code",
   "execution_count": 2,
   "id": "f82b5f50",
   "metadata": {},
   "outputs": [],
   "source": [
    "%load_ext tensorboard"
   ]
  },
  {
   "cell_type": "code",
   "execution_count": 3,
   "id": "de062177",
   "metadata": {},
   "outputs": [],
   "source": [
    "physical_devices = tf.config.list_physical_devices('GPU')\n",
    "tf.config.experimental.set_memory_growth(physical_devices[0], True)"
   ]
  },
  {
   "cell_type": "code",
   "execution_count": 4,
   "id": "a7f8fa57",
   "metadata": {},
   "outputs": [
    {
     "name": "stdout",
     "output_type": "stream",
     "text": [
      ">> Filtering black images (without ground truth)..\n",
      "    ------------\n",
      "    Before deleting:  0\n",
      "    After deleting:  0\n",
      "    ------------\n",
      "    Before deleting:  0\n",
      "    After deleting:  0\n",
      "<< Done!\n",
      "\n",
      ">> Searching for sets in csv format..\n",
      "!! Found them.\n"
     ]
    }
   ],
   "source": [
    "data = Dataset(cfg['dataset_path'], cfg['images_path'], cfg['modality'],\n",
    "                initial_slice=cfg['initial_slice'], final_slice=cfg['final_slice'], extract=False)"
   ]
  },
  {
   "cell_type": "code",
   "execution_count": 5,
   "id": "34a5a93a",
   "metadata": {},
   "outputs": [],
   "source": [
    "train_generator = DataGenerator(data.train, batch_size=cfg['batch_size'])\n",
    "val_generator = DataGenerator(data.val, batch_size=cfg['batch_size'])"
   ]
  },
  {
   "cell_type": "code",
   "execution_count": 6,
   "id": "e11344ee",
   "metadata": {},
   "outputs": [],
   "source": [
    "steps_per_epoch_train = (len(data.train)) // cfg['batch_size']\n",
    "steps_per_epoch_val = (len(data.val)) // cfg['batch_size']"
   ]
  },
  {
   "cell_type": "code",
   "execution_count": 7,
   "id": "9362df3b",
   "metadata": {},
   "outputs": [],
   "source": [
    "tf.keras.backend.clear_session()\n",
    "log_dir = \"logs/fit/\" + datetime.datetime.now().strftime(\"%Y%m%d-%H%M%S\")\n",
    "\n",
    "if not os.path.exists(log_dir):\n",
    "    os.makedirs(log_dir)\n",
    "\n",
    "tensorboard_callback = tf.keras.callbacks.TensorBoard(log_dir=log_dir, histogram_freq=1)"
   ]
  },
  {
   "cell_type": "code",
   "execution_count": 8,
   "id": "f0d45a2e",
   "metadata": {},
   "outputs": [
    {
     "name": "stdout",
     "output_type": "stream",
     "text": [
      "The modified UNet was built!\n",
      "Epoch 1/100\n"
     ]
    },
    {
     "name": "stderr",
     "output_type": "stream",
     "text": [
      "D:\\Programas\\anaconda3\\envs\\tcc\\lib\\site-packages\\tensorflow\\python\\keras\\optimizer_v2\\optimizer_v2.py:374: UserWarning: The `lr` argument is deprecated, use `learning_rate` instead.\n",
      "  warnings.warn(\n",
      "D:\\Programas\\anaconda3\\envs\\tcc\\lib\\site-packages\\tensorflow\\python\\keras\\utils\\generic_utils.py:494: CustomMaskWarning: Custom mask layers require a config and must override get_config. When loading, the custom mask layer must be passed to the custom_objects argument.\n",
      "  warnings.warn('Custom mask layers require a config and must override '\n"
     ]
    },
    {
     "name": "stdout",
     "output_type": "stream",
     "text": [
      "1242/1242 [==============================] - 203s 158ms/step - loss: 0.5055 - f1-score: 0.4945 - custom_mean_iou: 0.3839 - val_loss: 0.5942 - val_f1-score: 0.4058 - val_custom_mean_iou: 0.3521\n",
      "Epoch 2/100\n",
      "1242/1242 [==============================] - 195s 157ms/step - loss: 0.4150 - f1-score: 0.5850 - custom_mean_iou: 0.4853 - val_loss: 0.5580 - val_f1-score: 0.4420 - val_custom_mean_iou: 0.3693\n",
      "Epoch 3/100\n",
      "1242/1242 [==============================] - 195s 157ms/step - loss: 0.3626 - f1-score: 0.6374 - custom_mean_iou: 0.5341 - val_loss: 0.4538 - val_f1-score: 0.5462 - val_custom_mean_iou: 0.4747\n",
      "Epoch 4/100\n",
      "1242/1242 [==============================] - 194s 157ms/step - loss: 0.3161 - f1-score: 0.6839 - custom_mean_iou: 0.5807 - val_loss: 0.4059 - val_f1-score: 0.5941 - val_custom_mean_iou: 0.5098\n",
      "Epoch 5/100\n",
      "1242/1242 [==============================] - 194s 156ms/step - loss: 0.2760 - f1-score: 0.7240 - custom_mean_iou: 0.6235 - val_loss: 0.2971 - val_f1-score: 0.7029 - val_custom_mean_iou: 0.6166\n",
      "Epoch 6/100\n",
      "1242/1242 [==============================] - 198s 159ms/step - loss: 0.2472 - f1-score: 0.7528 - custom_mean_iou: 0.6555 - val_loss: 0.2613 - val_f1-score: 0.7387 - val_custom_mean_iou: 0.6533\n",
      "Epoch 7/100\n",
      "1242/1242 [==============================] - 194s 156ms/step - loss: 0.2256 - f1-score: 0.7744 - custom_mean_iou: 0.6799 - val_loss: 0.2413 - val_f1-score: 0.7587 - val_custom_mean_iou: 0.6796\n",
      "Epoch 8/100\n",
      "1242/1242 [==============================] - 195s 157ms/step - loss: 0.2097 - f1-score: 0.7903 - custom_mean_iou: 0.6985 - val_loss: 0.2243 - val_f1-score: 0.7757 - val_custom_mean_iou: 0.6950\n",
      "Epoch 9/100\n",
      "1242/1242 [==============================] - 194s 157ms/step - loss: 0.2005 - f1-score: 0.7995 - custom_mean_iou: 0.7091 - val_loss: 0.2415 - val_f1-score: 0.7585 - val_custom_mean_iou: 0.6771\n",
      "Epoch 10/100\n",
      "1242/1242 [==============================] - 195s 157ms/step - loss: 0.1867 - f1-score: 0.8133 - custom_mean_iou: 0.7264 - val_loss: 0.2157 - val_f1-score: 0.7843 - val_custom_mean_iou: 0.7065\n",
      "Epoch 11/100\n",
      "1242/1242 [==============================] - 194s 157ms/step - loss: 0.1775 - f1-score: 0.8225 - custom_mean_iou: 0.7379 - val_loss: 0.2068 - val_f1-score: 0.7932 - val_custom_mean_iou: 0.7148\n",
      "Epoch 12/100\n",
      "1242/1242 [==============================] - 195s 157ms/step - loss: 0.1704 - f1-score: 0.8296 - custom_mean_iou: 0.7467 - val_loss: 0.2060 - val_f1-score: 0.7940 - val_custom_mean_iou: 0.7153\n",
      "Epoch 13/100\n",
      "1242/1242 [==============================] - 194s 156ms/step - loss: 0.1633 - f1-score: 0.8367 - custom_mean_iou: 0.7556 - val_loss: 0.1948 - val_f1-score: 0.8052 - val_custom_mean_iou: 0.7279\n",
      "Epoch 14/100\n",
      "1242/1242 [==============================] - 194s 156ms/step - loss: 0.1580 - f1-score: 0.8420 - custom_mean_iou: 0.7623 - val_loss: 0.1841 - val_f1-score: 0.8159 - val_custom_mean_iou: 0.7410\n",
      "Epoch 15/100\n",
      "1242/1242 [==============================] - 194s 156ms/step - loss: 0.1538 - f1-score: 0.8462 - custom_mean_iou: 0.7678 - val_loss: 0.1840 - val_f1-score: 0.8160 - val_custom_mean_iou: 0.7419\n",
      "Epoch 16/100\n",
      "1242/1242 [==============================] - 194s 156ms/step - loss: 0.1512 - f1-score: 0.8488 - custom_mean_iou: 0.7713 - val_loss: 0.1832 - val_f1-score: 0.8168 - val_custom_mean_iou: 0.7439\n",
      "Epoch 17/100\n",
      "1242/1242 [==============================] - 193s 155ms/step - loss: 0.1465 - f1-score: 0.8535 - custom_mean_iou: 0.7772 - val_loss: 0.1767 - val_f1-score: 0.8233 - val_custom_mean_iou: 0.7519\n",
      "Epoch 18/100\n",
      "1242/1242 [==============================] - 193s 155ms/step - loss: 0.1430 - f1-score: 0.8570 - custom_mean_iou: 0.7818 - val_loss: 0.1785 - val_f1-score: 0.8215 - val_custom_mean_iou: 0.7465\n",
      "Epoch 19/100\n",
      "1242/1242 [==============================] - 193s 155ms/step - loss: 0.1400 - f1-score: 0.8600 - custom_mean_iou: 0.7857 - val_loss: 0.1683 - val_f1-score: 0.8317 - val_custom_mean_iou: 0.7599\n",
      "Epoch 20/100\n",
      "1242/1242 [==============================] - 193s 155ms/step - loss: 0.1378 - f1-score: 0.8622 - custom_mean_iou: 0.7886 - val_loss: 0.1723 - val_f1-score: 0.8277 - val_custom_mean_iou: 0.7541\n",
      "Epoch 21/100\n",
      "1242/1242 [==============================] - 193s 155ms/step - loss: 0.1355 - f1-score: 0.8645 - custom_mean_iou: 0.7916 - val_loss: 0.1684 - val_f1-score: 0.8316 - val_custom_mean_iou: 0.7588\n",
      "Epoch 22/100\n",
      "1242/1242 [==============================] - 193s 155ms/step - loss: 0.1324 - f1-score: 0.8676 - custom_mean_iou: 0.7956 - val_loss: 0.1800 - val_f1-score: 0.8200 - val_custom_mean_iou: 0.7440\n",
      "Epoch 23/100\n",
      "1242/1242 [==============================] - 196s 158ms/step - loss: 0.1310 - f1-score: 0.8690 - custom_mean_iou: 0.7974 - val_loss: 0.1706 - val_f1-score: 0.8294 - val_custom_mean_iou: 0.7567\n",
      "Epoch 24/100\n",
      "1242/1242 [==============================] - 196s 158ms/step - loss: 0.1286 - f1-score: 0.8714 - custom_mean_iou: 0.8006 - val_loss: 0.2040 - val_f1-score: 0.7960 - val_custom_mean_iou: 0.7170\n",
      "Epoch 25/100\n",
      "1242/1242 [==============================] - 198s 159ms/step - loss: 0.1266 - f1-score: 0.8734 - custom_mean_iou: 0.8032 - val_loss: 0.1583 - val_f1-score: 0.8417 - val_custom_mean_iou: 0.7725\n",
      "Epoch 26/100\n",
      "1242/1242 [==============================] - 199s 161ms/step - loss: 0.1249 - f1-score: 0.8751 - custom_mean_iou: 0.8054 - val_loss: 0.1579 - val_f1-score: 0.8421 - val_custom_mean_iou: 0.7727\n",
      "Epoch 27/100\n",
      "1242/1242 [==============================] - 211s 170ms/step - loss: 0.1232 - f1-score: 0.8768 - custom_mean_iou: 0.8078 - val_loss: 0.1587 - val_f1-score: 0.8413 - val_custom_mean_iou: 0.7724\n",
      "Epoch 28/100\n",
      "1242/1242 [==============================] - 204s 164ms/step - loss: 0.1215 - f1-score: 0.8785 - custom_mean_iou: 0.8100 - val_loss: 0.1708 - val_f1-score: 0.8292 - val_custom_mean_iou: 0.7561\n",
      "Epoch 29/100\n",
      "1242/1242 [==============================] - 194s 157ms/step - loss: 0.1197 - f1-score: 0.8803 - custom_mean_iou: 0.8123 - val_loss: 0.1567 - val_f1-score: 0.8433 - val_custom_mean_iou: 0.7746\n",
      "Epoch 30/100\n",
      "1242/1242 [==============================] - 194s 156ms/step - loss: 0.1187 - f1-score: 0.8813 - custom_mean_iou: 0.8139 - val_loss: 0.1544 - val_f1-score: 0.8456 - val_custom_mean_iou: 0.7759\n",
      "Epoch 31/100\n",
      "1242/1242 [==============================] - 194s 157ms/step - loss: 0.1171 - f1-score: 0.8829 - custom_mean_iou: 0.8159 - val_loss: 0.1634 - val_f1-score: 0.8366 - val_custom_mean_iou: 0.7654\n",
      "Epoch 32/100\n",
      "1242/1242 [==============================] - 195s 157ms/step - loss: 0.1159 - f1-score: 0.8841 - custom_mean_iou: 0.8175 - val_loss: 0.1516 - val_f1-score: 0.8484 - val_custom_mean_iou: 0.7802\n",
      "Epoch 33/100\n",
      "1242/1242 [==============================] - 194s 156ms/step - loss: 0.1142 - f1-score: 0.8858 - custom_mean_iou: 0.8198 - val_loss: 0.1591 - val_f1-score: 0.8409 - val_custom_mean_iou: 0.7716\n",
      "Epoch 34/100\n",
      "1242/1242 [==============================] - 198s 160ms/step - loss: 0.1128 - f1-score: 0.8872 - custom_mean_iou: 0.8217 - val_loss: 0.1527 - val_f1-score: 0.8473 - val_custom_mean_iou: 0.7791\n",
      "Epoch 35/100\n",
      "1242/1242 [==============================] - 198s 159ms/step - loss: 0.1120 - f1-score: 0.8880 - custom_mean_iou: 0.8226 - val_loss: 0.1555 - val_f1-score: 0.8445 - val_custom_mean_iou: 0.7737\n",
      "Epoch 36/100\n",
      "1242/1242 [==============================] - 193s 155ms/step - loss: 0.1109 - f1-score: 0.8891 - custom_mean_iou: 0.8243 - val_loss: 0.1497 - val_f1-score: 0.8503 - val_custom_mean_iou: 0.7829\n",
      "Epoch 37/100\n",
      "1242/1242 [==============================] - 193s 155ms/step - loss: 0.1101 - f1-score: 0.8899 - custom_mean_iou: 0.8253 - val_loss: 0.1502 - val_f1-score: 0.8498 - val_custom_mean_iou: 0.7816\n",
      "Epoch 38/100\n",
      "1242/1242 [==============================] - 194s 156ms/step - loss: 0.1093 - f1-score: 0.8907 - custom_mean_iou: 0.8264 - val_loss: 0.1554 - val_f1-score: 0.8446 - val_custom_mean_iou: 0.7743\n",
      "Epoch 39/100\n",
      "1242/1242 [==============================] - 193s 155ms/step - loss: 0.1078 - f1-score: 0.8922 - custom_mean_iou: 0.8283 - val_loss: 0.1477 - val_f1-score: 0.8523 - val_custom_mean_iou: 0.7852\n",
      "Epoch 40/100\n",
      "1242/1242 [==============================] - 193s 155ms/step - loss: 0.1066 - f1-score: 0.8934 - custom_mean_iou: 0.8300 - val_loss: 0.1514 - val_f1-score: 0.8486 - val_custom_mean_iou: 0.7819\n"
     ]
    },
    {
     "name": "stdout",
     "output_type": "stream",
     "text": [
      "Epoch 41/100\n",
      "1242/1242 [==============================] - 193s 155ms/step - loss: 0.1063 - f1-score: 0.8937 - custom_mean_iou: 0.8301 - val_loss: 0.1502 - val_f1-score: 0.8498 - val_custom_mean_iou: 0.7827\n",
      "Epoch 42/100\n",
      "1242/1242 [==============================] - 193s 155ms/step - loss: 0.1055 - f1-score: 0.8945 - custom_mean_iou: 0.8316 - val_loss: 0.1496 - val_f1-score: 0.8504 - val_custom_mean_iou: 0.7831\n",
      "Epoch 43/100\n",
      "1242/1242 [==============================] - 193s 155ms/step - loss: 0.1042 - f1-score: 0.8958 - custom_mean_iou: 0.8332 - val_loss: 0.1458 - val_f1-score: 0.8542 - val_custom_mean_iou: 0.7867\n",
      "Epoch 44/100\n",
      "1242/1242 [==============================] - 196s 158ms/step - loss: 0.1031 - f1-score: 0.8969 - custom_mean_iou: 0.8347 - val_loss: 0.1516 - val_f1-score: 0.8484 - val_custom_mean_iou: 0.7795\n",
      "Epoch 45/100\n",
      "1242/1242 [==============================] - 192s 155ms/step - loss: 0.1024 - f1-score: 0.8976 - custom_mean_iou: 0.8355 - val_loss: 0.1463 - val_f1-score: 0.8537 - val_custom_mean_iou: 0.7863\n",
      "Epoch 46/100\n",
      "1242/1242 [==============================] - 192s 155ms/step - loss: 0.1017 - f1-score: 0.8983 - custom_mean_iou: 0.8365 - val_loss: 0.1446 - val_f1-score: 0.8554 - val_custom_mean_iou: 0.7887\n",
      "Epoch 47/100\n",
      "1242/1242 [==============================] - 192s 155ms/step - loss: 0.1007 - f1-score: 0.8993 - custom_mean_iou: 0.8379 - val_loss: 0.1436 - val_f1-score: 0.8564 - val_custom_mean_iou: 0.7900\n",
      "Epoch 48/100\n",
      "1242/1242 [==============================] - 192s 155ms/step - loss: 0.1002 - f1-score: 0.8998 - custom_mean_iou: 0.8385 - val_loss: 0.1447 - val_f1-score: 0.8553 - val_custom_mean_iou: 0.7881\n",
      "Epoch 49/100\n",
      "1242/1242 [==============================] - 192s 155ms/step - loss: 0.0989 - f1-score: 0.9011 - custom_mean_iou: 0.8403 - val_loss: 0.1471 - val_f1-score: 0.8529 - val_custom_mean_iou: 0.7860\n",
      "Epoch 50/100\n",
      "1242/1242 [==============================] - 192s 155ms/step - loss: 0.0986 - f1-score: 0.9014 - custom_mean_iou: 0.8407 - val_loss: 0.1436 - val_f1-score: 0.8564 - val_custom_mean_iou: 0.7896\n",
      "Epoch 51/100\n",
      "1242/1242 [==============================] - 192s 155ms/step - loss: 0.0976 - f1-score: 0.9024 - custom_mean_iou: 0.8420 - val_loss: 0.1520 - val_f1-score: 0.8480 - val_custom_mean_iou: 0.7796\n",
      "Epoch 52/100\n",
      "1242/1242 [==============================] - 192s 155ms/step - loss: 0.0971 - f1-score: 0.9029 - custom_mean_iou: 0.8426 - val_loss: 0.1472 - val_f1-score: 0.8528 - val_custom_mean_iou: 0.7858\n",
      "Epoch 53/100\n",
      "1242/1242 [==============================] - 192s 155ms/step - loss: 0.0962 - f1-score: 0.9038 - custom_mean_iou: 0.8440 - val_loss: 0.1454 - val_f1-score: 0.8546 - val_custom_mean_iou: 0.7875\n",
      "Epoch 54/100\n",
      "1242/1242 [==============================] - 192s 155ms/step - loss: 0.0956 - f1-score: 0.9044 - custom_mean_iou: 0.8448 - val_loss: 0.1449 - val_f1-score: 0.8551 - val_custom_mean_iou: 0.7891\n",
      "Epoch 55/100\n",
      "1242/1242 [==============================] - 192s 155ms/step - loss: 0.0950 - f1-score: 0.9050 - custom_mean_iou: 0.8458 - val_loss: 0.1524 - val_f1-score: 0.8476 - val_custom_mean_iou: 0.7793\n",
      "Epoch 56/100\n",
      "1242/1242 [==============================] - 192s 155ms/step - loss: 0.0971 - f1-score: 0.9029 - custom_mean_iou: 0.8427 - val_loss: 0.1473 - val_f1-score: 0.8527 - val_custom_mean_iou: 0.7864\n",
      "Epoch 57/100\n",
      "1242/1242 [==============================] - 192s 155ms/step - loss: 0.0944 - f1-score: 0.9056 - custom_mean_iou: 0.8463 - val_loss: 0.1461 - val_f1-score: 0.8539 - val_custom_mean_iou: 0.7876\n",
      "Epoch 58/100\n",
      "1242/1242 [==============================] - 192s 155ms/step - loss: 0.0938 - f1-score: 0.9062 - custom_mean_iou: 0.8473 - val_loss: 0.1412 - val_f1-score: 0.8588 - val_custom_mean_iou: 0.7939\n",
      "Epoch 59/100\n",
      "1242/1242 [==============================] - 192s 155ms/step - loss: 0.0930 - f1-score: 0.9070 - custom_mean_iou: 0.8486 - val_loss: 0.1431 - val_f1-score: 0.8569 - val_custom_mean_iou: 0.7909\n",
      "Epoch 60/100\n",
      "1242/1242 [==============================] - 192s 155ms/step - loss: 0.0926 - f1-score: 0.9074 - custom_mean_iou: 0.8492 - val_loss: 0.1398 - val_f1-score: 0.8602 - val_custom_mean_iou: 0.7951\n",
      "Epoch 61/100\n",
      "1242/1242 [==============================] - 192s 155ms/step - loss: 0.0916 - f1-score: 0.9084 - custom_mean_iou: 0.8506 - val_loss: 0.1403 - val_f1-score: 0.8597 - val_custom_mean_iou: 0.7939\n",
      "Epoch 62/100\n",
      "1242/1242 [==============================] - 192s 155ms/step - loss: 0.0913 - f1-score: 0.9087 - custom_mean_iou: 0.8510 - val_loss: 0.1531 - val_f1-score: 0.8469 - val_custom_mean_iou: 0.7769\n",
      "Epoch 63/100\n",
      "1242/1242 [==============================] - 198s 159ms/step - loss: 0.0910 - f1-score: 0.9090 - custom_mean_iou: 0.8515 - val_loss: 0.1400 - val_f1-score: 0.8600 - val_custom_mean_iou: 0.7950\n",
      "Epoch 64/100\n",
      "1242/1242 [==============================] - 192s 155ms/step - loss: 0.0899 - f1-score: 0.9101 - custom_mean_iou: 0.8531 - val_loss: 0.1412 - val_f1-score: 0.8588 - val_custom_mean_iou: 0.7934\n",
      "Epoch 65/100\n",
      "1242/1242 [==============================] - 195s 157ms/step - loss: 0.0890 - f1-score: 0.9110 - custom_mean_iou: 0.8543 - val_loss: 0.1434 - val_f1-score: 0.8566 - val_custom_mean_iou: 0.7912\n",
      "Epoch 66/100\n",
      "1242/1242 [==============================] - 193s 155ms/step - loss: 0.0880 - f1-score: 0.9120 - custom_mean_iou: 0.8558 - val_loss: 0.1395 - val_f1-score: 0.8605 - val_custom_mean_iou: 0.7948\n",
      "Epoch 67/100\n",
      "1242/1242 [==============================] - 193s 155ms/step - loss: 0.0875 - f1-score: 0.9125 - custom_mean_iou: 0.8564 - val_loss: 0.1534 - val_f1-score: 0.8466 - val_custom_mean_iou: 0.7783\n",
      "Epoch 68/100\n",
      "1242/1242 [==============================] - 193s 156ms/step - loss: 0.0869 - f1-score: 0.9131 - custom_mean_iou: 0.8574 - val_loss: 0.1442 - val_f1-score: 0.8558 - val_custom_mean_iou: 0.7889\n",
      "Epoch 69/100\n",
      "1242/1242 [==============================] - 193s 156ms/step - loss: 0.0855 - f1-score: 0.9145 - custom_mean_iou: 0.8594 - val_loss: 0.1380 - val_f1-score: 0.8620 - val_custom_mean_iou: 0.7979\n",
      "Epoch 70/100\n",
      "1242/1242 [==============================] - 193s 155ms/step - loss: 0.0851 - f1-score: 0.9149 - custom_mean_iou: 0.8600 - val_loss: 0.1373 - val_f1-score: 0.8627 - val_custom_mean_iou: 0.7977\n",
      "Epoch 71/100\n",
      "1242/1242 [==============================] - 193s 155ms/step - loss: 0.0841 - f1-score: 0.9159 - custom_mean_iou: 0.8614 - val_loss: 0.1377 - val_f1-score: 0.8623 - val_custom_mean_iou: 0.7974\n",
      "Epoch 72/100\n",
      "1242/1242 [==============================] - 193s 155ms/step - loss: 0.0833 - f1-score: 0.9167 - custom_mean_iou: 0.8625 - val_loss: 0.1369 - val_f1-score: 0.8631 - val_custom_mean_iou: 0.7985\n",
      "Epoch 73/100\n",
      "1242/1242 [==============================] - 193s 155ms/step - loss: 0.0826 - f1-score: 0.9174 - custom_mean_iou: 0.8635 - val_loss: 0.1359 - val_f1-score: 0.8641 - val_custom_mean_iou: 0.7999\n",
      "Epoch 74/100\n",
      "1242/1242 [==============================] - 193s 155ms/step - loss: 0.0818 - f1-score: 0.9182 - custom_mean_iou: 0.8646 - val_loss: 0.1354 - val_f1-score: 0.8646 - val_custom_mean_iou: 0.8005\n",
      "Epoch 75/100\n",
      "1242/1242 [==============================] - 193s 155ms/step - loss: 0.0812 - f1-score: 0.9188 - custom_mean_iou: 0.8655 - val_loss: 0.1356 - val_f1-score: 0.8644 - val_custom_mean_iou: 0.8001\n",
      "Epoch 76/100\n",
      "1242/1242 [==============================] - 193s 155ms/step - loss: 0.0807 - f1-score: 0.9193 - custom_mean_iou: 0.8661 - val_loss: 0.1371 - val_f1-score: 0.8629 - val_custom_mean_iou: 0.7994\n",
      "Epoch 77/100\n",
      "1242/1242 [==============================] - 193s 155ms/step - loss: 0.0808 - f1-score: 0.9192 - custom_mean_iou: 0.8661 - val_loss: 0.1361 - val_f1-score: 0.8639 - val_custom_mean_iou: 0.8002\n",
      "Epoch 78/100\n",
      "1242/1242 [==============================] - 193s 155ms/step - loss: 0.0804 - f1-score: 0.9196 - custom_mean_iou: 0.8665 - val_loss: 0.1430 - val_f1-score: 0.8570 - val_custom_mean_iou: 0.7905\n",
      "Epoch 79/100\n",
      "1242/1242 [==============================] - 193s 155ms/step - loss: 0.0795 - f1-score: 0.9205 - custom_mean_iou: 0.8681 - val_loss: 0.1350 - val_f1-score: 0.8650 - val_custom_mean_iou: 0.8013\n",
      "Epoch 80/100\n",
      "1242/1242 [==============================] - 193s 156ms/step - loss: 0.0788 - f1-score: 0.9212 - custom_mean_iou: 0.8691 - val_loss: 0.1346 - val_f1-score: 0.8654 - val_custom_mean_iou: 0.8010\n"
     ]
    },
    {
     "name": "stdout",
     "output_type": "stream",
     "text": [
      "Epoch 81/100\n",
      "1242/1242 [==============================] - 195s 157ms/step - loss: 0.0787 - f1-score: 0.9213 - custom_mean_iou: 0.8691 - val_loss: 0.1378 - val_f1-score: 0.8622 - val_custom_mean_iou: 0.7974\n",
      "Epoch 82/100\n",
      "1242/1242 [==============================] - 202s 163ms/step - loss: 0.0782 - f1-score: 0.9218 - custom_mean_iou: 0.8698 - val_loss: 0.1363 - val_f1-score: 0.8637 - val_custom_mean_iou: 0.7985\n",
      "Epoch 83/100\n",
      "1242/1242 [==============================] - 195s 157ms/step - loss: 0.0778 - f1-score: 0.9222 - custom_mean_iou: 0.8704 - val_loss: 0.1411 - val_f1-score: 0.8589 - val_custom_mean_iou: 0.7933\n",
      "Epoch 84/100\n",
      "1242/1242 [==============================] - 194s 156ms/step - loss: 0.0772 - f1-score: 0.9228 - custom_mean_iou: 0.8714 - val_loss: 0.1379 - val_f1-score: 0.8621 - val_custom_mean_iou: 0.7982\n",
      "Epoch 85/100\n",
      "1242/1242 [==============================] - 194s 156ms/step - loss: 0.0765 - f1-score: 0.9235 - custom_mean_iou: 0.8723 - val_loss: 0.1355 - val_f1-score: 0.8645 - val_custom_mean_iou: 0.8004\n",
      "Epoch 86/100\n",
      "1242/1242 [==============================] - 194s 156ms/step - loss: 0.0765 - f1-score: 0.9235 - custom_mean_iou: 0.8721 - val_loss: 0.1364 - val_f1-score: 0.8636 - val_custom_mean_iou: 0.7996\n",
      "Epoch 87/100\n",
      "1242/1242 [==============================] - 194s 156ms/step - loss: 0.0759 - f1-score: 0.9241 - custom_mean_iou: 0.8731 - val_loss: 0.1347 - val_f1-score: 0.8653 - val_custom_mean_iou: 0.8015\n",
      "Epoch 88/100\n",
      "1242/1242 [==============================] - 193s 156ms/step - loss: 0.0752 - f1-score: 0.9248 - custom_mean_iou: 0.8741 - val_loss: 0.1330 - val_f1-score: 0.8670 - val_custom_mean_iou: 0.8044\n",
      "Epoch 89/100\n",
      "1242/1242 [==============================] - 193s 156ms/step - loss: 0.0749 - f1-score: 0.9251 - custom_mean_iou: 0.8745 - val_loss: 0.1335 - val_f1-score: 0.8665 - val_custom_mean_iou: 0.8036\n",
      "Epoch 90/100\n",
      "1242/1242 [==============================] - 194s 156ms/step - loss: 0.0748 - f1-score: 0.9252 - custom_mean_iou: 0.8747 - val_loss: 0.1369 - val_f1-score: 0.8631 - val_custom_mean_iou: 0.7991\n",
      "Epoch 91/100\n",
      "1242/1242 [==============================] - 197s 158ms/step - loss: 0.0748 - f1-score: 0.9252 - custom_mean_iou: 0.8746 - val_loss: 0.1329 - val_f1-score: 0.8671 - val_custom_mean_iou: 0.8046\n",
      "Epoch 92/100\n",
      "1242/1242 [==============================] - 197s 158ms/step - loss: 0.0741 - f1-score: 0.9259 - custom_mean_iou: 0.8757 - val_loss: 0.1319 - val_f1-score: 0.8681 - val_custom_mean_iou: 0.8056\n",
      "Epoch 93/100\n",
      "1242/1242 [==============================] - 195s 157ms/step - loss: 0.0740 - f1-score: 0.9260 - custom_mean_iou: 0.8760 - val_loss: 0.1353 - val_f1-score: 0.8647 - val_custom_mean_iou: 0.8013\n",
      "Epoch 94/100\n",
      "1242/1242 [==============================] - 195s 157ms/step - loss: 0.0727 - f1-score: 0.9273 - custom_mean_iou: 0.8779 - val_loss: 0.1330 - val_f1-score: 0.8670 - val_custom_mean_iou: 0.8035\n",
      "Epoch 95/100\n",
      "1242/1242 [==============================] - 195s 157ms/step - loss: 0.0724 - f1-score: 0.9276 - custom_mean_iou: 0.8782 - val_loss: 0.1353 - val_f1-score: 0.8647 - val_custom_mean_iou: 0.8013\n",
      "Epoch 96/100\n",
      "1242/1242 [==============================] - 195s 157ms/step - loss: 0.0719 - f1-score: 0.9281 - custom_mean_iou: 0.8789 - val_loss: 0.1342 - val_f1-score: 0.8658 - val_custom_mean_iou: 0.8020\n",
      "Epoch 97/100\n",
      "1242/1242 [==============================] - 195s 157ms/step - loss: 0.0722 - f1-score: 0.9278 - custom_mean_iou: 0.8785 - val_loss: 0.1369 - val_f1-score: 0.8631 - val_custom_mean_iou: 0.7981\n",
      "Epoch 98/100\n",
      "1242/1242 [==============================] - 195s 157ms/step - loss: 0.0713 - f1-score: 0.9287 - custom_mean_iou: 0.8798 - val_loss: 0.1337 - val_f1-score: 0.8663 - val_custom_mean_iou: 0.8027\n",
      "Epoch 99/100\n",
      "1242/1242 [==============================] - 198s 160ms/step - loss: 0.0708 - f1-score: 0.9292 - custom_mean_iou: 0.8805 - val_loss: 0.1334 - val_f1-score: 0.8666 - val_custom_mean_iou: 0.8032\n",
      "Epoch 100/100\n",
      "1242/1242 [==============================] - 197s 159ms/step - loss: 0.0706 - f1-score: 0.9294 - custom_mean_iou: 0.8808 - val_loss: 0.1347 - val_f1-score: 0.8653 - val_custom_mean_iou: 0.8016\n"
     ]
    }
   ],
   "source": [
    "model = unet_model((128,128,1))\n",
    "history = model.fit(train_generator, validation_data=val_generator, \n",
    "                    steps_per_epoch=steps_per_epoch_train, validation_steps = steps_per_epoch_val,\n",
    "                    epochs = cfg['epochs'], callbacks=[tensorboard_callback])"
   ]
  },
  {
   "cell_type": "code",
   "execution_count": 9,
   "id": "0129a435",
   "metadata": {},
   "outputs": [],
   "source": [
    "model.save('modelo2.h5')"
   ]
  },
  {
   "cell_type": "markdown",
   "id": "faf368cb",
   "metadata": {},
   "source": [
    "## Predictions"
   ]
  },
  {
   "cell_type": "code",
   "execution_count": 10,
   "id": "0182394b",
   "metadata": {},
   "outputs": [],
   "source": [
    "test_generator = DataGenerator(data.test, batch_size=16)"
   ]
  },
  {
   "cell_type": "code",
   "execution_count": 11,
   "id": "587417e2",
   "metadata": {},
   "outputs": [],
   "source": [
    "class CustomMeanIOU(tf.keras.metrics.MeanIoU):\n",
    "    def update_state(self, y_true, y_pred, sample_weight=None):\n",
    "        return super().update_state(tf.argmax(y_true, axis=-1), tf.argmax(y_pred, axis=-1), sample_weight)"
   ]
  },
  {
   "cell_type": "code",
   "execution_count": 12,
   "id": "df8702c7",
   "metadata": {},
   "outputs": [],
   "source": [
    "def save_preds(val_preds, out):\n",
    "    for i in range(len(val_preds)):\n",
    "        mask = np.argmax(val_preds[i], axis=-1)\n",
    "        mask = np.expand_dims(mask, axis=-1)\n",
    "        imageio.imwrite(out + f'predict_{i}'+ '.png', mask.astype(np.uint8))"
   ]
  },
  {
   "cell_type": "code",
   "execution_count": 13,
   "id": "81093d7f",
   "metadata": {},
   "outputs": [],
   "source": [
    "def visualize_prediction(i, val_preds):\n",
    "    img = data.test[i][0]\n",
    "    img_arr = cv2.imread(img)\n",
    "    plt.imshow(img_arr)\n",
    "    plt.show()\n",
    "    gt = data.test[i][1]\n",
    "    gt_arr = cv2.imread(gt, 0)\n",
    "    plt.imshow(gt_arr) \n",
    "    plt.show()\n",
    "    plt.imshow(np.argmax(val_preds[i], axis=-1))\n",
    "    \n",
    "    plt.show()\n",
    "    "
   ]
  },
  {
   "cell_type": "code",
   "execution_count": 16,
   "id": "5d6dbfc9",
   "metadata": {},
   "outputs": [
    {
     "name": "stdout",
     "output_type": "stream",
     "text": [
      "77/77 [==============================] - 7s 94ms/step\n"
     ]
    }
   ],
   "source": [
    "val_preds = model.predict(test_generator, verbose=1)"
   ]
  },
  {
   "cell_type": "code",
   "execution_count": 23,
   "id": "25e31a71",
   "metadata": {},
   "outputs": [
    {
     "data": {
      "image/png": "[encoded data removed]",
      "text/plain": [
       "<Figure size 432x288 with 1 Axes>"
      ]
     },
     "metadata": {
      "needs_background": "light"
     },
     "output_type": "display_data"
    },
    {
     "data": {
      "image/png": "[encoded data removed]",
      "text/plain": [
       "<Figure size 432x288 with 1 Axes>"
      ]
     },
     "metadata": {
      "needs_background": "light"
     },
     "output_type": "display_data"
    },
    {
     "data": {
      "image/png": "[encoded data removed]",
      "text/plain": [
       "<Figure size 432x288 with 1 Axes>"
      ]
     },
     "metadata": {
      "needs_background": "light"
     },
     "output_type": "display_data"
    }
   ],
   "source": [
    "visualize_prediction(659, val_preds)"
   ]
  },
  {
   "cell_type": "code",
   "execution_count": null,
   "id": "58abaabc",
   "metadata": {},
   "outputs": [],
   "source": []
  }
 ],
 "metadata": {
  "kernelspec": {
   "display_name": "Python 3 (ipykernel)",
   "language": "python",
   "name": "python3"
  },
  "language_info": {
   "codemirror_mode": {
    "name": "ipython",
    "version": 3
   },
   "file_extension": ".py",
   "mimetype": "text/x-python",
   "name": "python",
   "nbconvert_exporter": "python",
   "pygments_lexer": "ipython3",
   "version": "3.9.7"
  }
 },
 "nbformat": 4,
 "nbformat_minor": 5
}
