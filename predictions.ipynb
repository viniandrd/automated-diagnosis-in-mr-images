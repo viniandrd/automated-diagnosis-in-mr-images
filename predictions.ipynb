{
 "cells": [
  {
   "cell_type": "code",
   "execution_count": null,
   "id": "c215c61a",
   "metadata": {},
   "outputs": [],
   "source": [
    "from data_manipulation.loaders import *\n",
    "from glob import glob\n",
    "import tensorflow.keras.backend as K\n",
    "import tensorflow as tf\n",
    "from tensorflow.keras import metrics\n",
    "from tensorflow.keras.losses import mse\n",
    "import segmentation_models as sm\n",
    "import numpy as np\n",
    "import os\n",
    "from tensorflow.keras.models import load_model\n",
    "from PIL import ImageOps\n",
    "import PIL\n",
    "from IPython.display import Image, display\n",
    "import imageio\n",
    "\n",
    "from config import config as cfg\n",
    "from losses.custom_loss import custom_loss\n",
    "import matplotlib.pyplot as plt"
   ]
  },
  {
   "cell_type": "code",
   "execution_count": null,
   "id": "54af997c",
   "metadata": {},
   "outputs": [],
   "source": [
    "data = Dataset(cfg['dataset_path'], cfg['images_path'], cfg['modality'],\n",
    "                initial_slice=cfg['initial_slice'], final_slice=cfg['final_slice'], extract=False)"
   ]
  },
  {
   "cell_type": "code",
   "execution_count": null,
   "id": "68f4403c",
   "metadata": {},
   "outputs": [],
   "source": [
    "def visualize_prediction(i, val_preds):\n",
    "    img = data.test[i][0]\n",
    "    img_arr = cv2.imread(img)\n",
    "    plt.imshow(img_arr)\n",
    "    plt.show()\n",
    "    gt = data.test[i][1]\n",
    "    gt_arr = cv2.imread(gt, 0)\n",
    "    plt.imshow(gt_arr) \n",
    "    plt.show()\n",
    "    plt.imshow(np.argmax(val_preds[i], axis=-1))\n",
    "    \n",
    "    plt.show()"
   ]
  },
  {
   "cell_type": "code",
   "execution_count": null,
   "id": "5fb98255",
   "metadata": {},
   "outputs": [],
   "source": [
    "model = 3"
   ]
  },
  {
   "cell_type": "code",
   "execution_count": null,
   "id": "5831e414",
   "metadata": {},
   "outputs": [],
   "source": [
    "class CustomMeanIOU(tf.keras.metrics.MeanIoU):\n",
    "    def update_state(self, y_true, y_pred, sample_weight=None):\n",
    "        return super().update_state(tf.argmax(y_true, axis=-1), tf.argmax(y_pred, axis=-1), sample_weight)"
   ]
  },
  {
   "cell_type": "code",
   "execution_count": null,
   "id": "22eea2ec",
   "metadata": {},
   "outputs": [],
   "source": [
    "def save_preds(val_preds, out):\n",
    "    for i in range(len(val_preds)):\n",
    "        mask = np.argmax(val_preds[i], axis=-1)\n",
    "        mask = np.expand_dims(mask, axis=-1)\n",
    "        imageio.imwrite(out + 'predict_{:04d}'.format(i) + '.png', mask.astype(np.uint8))"
   ]
  },
  {
   "cell_type": "code",
   "execution_count": null,
   "id": "4fcf8162",
   "metadata": {},
   "outputs": [],
   "source": [
    "if model == 2:\n",
    "    modelo_salvo = load_model('modelo2.h5', custom_objects={'dice_loss': sm.losses.jaccard_loss, 'f1-score': sm.metrics.f1_score, 'CustomMeanIOU': CustomMeanIOU})\n",
    "elif model == 3:\n",
    "    modelo_salvo = load_model('modelo3.h5', custom_objects={'jaccard_loss': sm.losses.jaccard_loss, 'f1-score': sm.metrics.f1_score, 'CustomMeanIOU': CustomMeanIOU})"
   ]
  },
  {
   "cell_type": "code",
   "execution_count": null,
   "id": "8945e2b2",
   "metadata": {},
   "outputs": [],
   "source": [
    "test_generator = DataGenerator(data.test, batch_size=16)\n",
    "val_preds = modelo_salvo.predict(test_generator, verbose=1)"
   ]
  },
  {
   "cell_type": "code",
   "execution_count": null,
   "id": "4e28bb65",
   "metadata": {
    "scrolled": true
   },
   "outputs": [],
   "source": [
    "visualize_prediction(11, val_preds)"
   ]
  },
  {
   "cell_type": "code",
   "execution_count": null,
   "id": "138b3323",
   "metadata": {},
   "outputs": [],
   "source": [
    "out = f'predictions/model{model}/'\n",
    "os.makedirs(out)\n",
    "save_preds(val_preds, out)"
   ]
  }
 ],
 "metadata": {
  "kernelspec": {
   "display_name": "Python 3 (ipykernel)",
   "language": "python",
   "name": "python3"
  },
  "language_info": {
   "codemirror_mode": {
    "name": "ipython",
    "version": 3
   },
   "file_extension": ".py",
   "mimetype": "text/x-python",
   "name": "python",
   "nbconvert_exporter": "python",
   "pygments_lexer": "ipython3",
   "version": "3.9.7"
  }
 },
 "nbformat": 4,
 "nbformat_minor": 5
}
